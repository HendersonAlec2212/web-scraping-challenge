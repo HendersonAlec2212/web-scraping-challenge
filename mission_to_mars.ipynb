{
 "cells": [
  {
   "cell_type": "markdown",
   "id": "3fd2e9ba",
   "metadata": {},
   "source": [
    "## This project serves as an introduction for scraping various media forms."
   ]
  },
  {
   "cell_type": "markdown",
   "id": "e9cbea24",
   "metadata": {},
   "source": [
    "### --- Set up ---"
   ]
  },
  {
   "cell_type": "code",
   "execution_count": 2,
   "id": "a27eec8c",
   "metadata": {},
   "outputs": [],
   "source": [
    "import pandas as pd\n",
    "from splinter import Browser\n",
    "from bs4 import BeautifulSoup\n",
    "from webdriver_manager.chrome import ChromeDriverManager\n"
   ]
  },
  {
   "cell_type": "code",
   "execution_count": 3,
   "id": "bebf96ab",
   "metadata": {},
   "outputs": [
    {
     "name": "stderr",
     "output_type": "stream",
     "text": [
      "\n",
      "\n",
      "====== WebDriver manager ======\n",
      "Current google-chrome version is 96.0.4664\n",
      "Get LATEST chromedriver version for 96.0.4664 google-chrome\n",
      "Driver [C:\\Users\\Alec\\.wdm\\drivers\\chromedriver\\win32\\96.0.4664.45\\chromedriver.exe] found in cache\n"
     ]
    }
   ],
   "source": [
    "# set up splinter\n",
    "executable_path = {'executable_path': ChromeDriverManager().install()}\n",
    "browser = Browser('chrome', **executable_path, headless=False)"
   ]
  },
  {
   "cell_type": "markdown",
   "id": "c8d86f0a",
   "metadata": {},
   "source": [
    "# Mars First Article Scraper"
   ]
  },
  {
   "cell_type": "code",
   "execution_count": null,
   "id": "815d583d",
   "metadata": {},
   "outputs": [],
   "source": [
    "# set up url visit\n",
    "url = 'https://redplanetscience.com/'\n",
    "browser.visit(url)"
   ]
  },
  {
   "cell_type": "code",
   "execution_count": null,
   "id": "7a1cbaee",
   "metadata": {},
   "outputs": [],
   "source": [
    "# create the soup object for mars site\n",
    "\n",
    "html = browser.html\n",
    "mars_soup = BeautifulSoup(html, 'html.parser')\n",
    "\n",
    "# collect the latest/most recent News title and Paragraph\n",
    "\n",
    "# isolate parent div\n",
    "first_news_div = mars_soup.find('div', class_='list_text')"
   ]
  },
  {
   "cell_type": "code",
   "execution_count": null,
   "id": "e3398ec3",
   "metadata": {},
   "outputs": [],
   "source": [
    "# store the title and first paragraph into variables\n",
    "news_title = first_news_div.find('div',class_='content_title').get_text()\n",
    "\n",
    "news_p = first_news_div.find('div',class_='article_teaser_body').get_text()"
   ]
  },
  {
   "cell_type": "markdown",
   "id": "899eace7",
   "metadata": {},
   "source": [
    "# JPL Space Featured Image"
   ]
  },
  {
   "cell_type": "code",
   "execution_count": null,
   "id": "8f8b8232",
   "metadata": {},
   "outputs": [],
   "source": [
    "# visit JPL URL\n",
    "url = 'https://spaceimages-mars.com'\n",
    "browser.visit(url)"
   ]
  },
  {
   "cell_type": "code",
   "execution_count": null,
   "id": "b019b78b",
   "metadata": {},
   "outputs": [],
   "source": [
    "# find full image button, click it\n",
    "# first button is nav bar - click second instance\n",
    "browser.find_by_tag('button')[1].click()"
   ]
  },
  {
   "cell_type": "code",
   "execution_count": null,
   "id": "695e2bd2",
   "metadata": {},
   "outputs": [],
   "source": [
    "# parse the page for the full img url\n",
    "\n",
    "html = browser.html\n",
    "jpl_soup = BeautifulSoup(html, 'html.parser')\n",
    "\n",
    "# find img url\n",
    "\n",
    "rel_img_url = jpl_soup.find('img',class_='fancybox-image')['src']\n",
    "\n",
    "# combine with parent URL for maximun URL-ability\n",
    "abs_img_url = f'https://spaceimages-mars.com/{rel_img_url}'\n",
    "abs_img_url"
   ]
  },
  {
   "cell_type": "markdown",
   "id": "2680a13d",
   "metadata": {},
   "source": [
    "# Mars Facts"
   ]
  },
  {
   "cell_type": "code",
   "execution_count": null,
   "id": "7fe700c1",
   "metadata": {},
   "outputs": [],
   "source": [
    "# mars fact url\n",
    "url = 'https://galaxyfacts-mars.com/'\n",
    "# i think we only want the first table\n",
    "mars_df = pd.read_html(url)[0]\n",
    "mars_df"
   ]
  },
  {
   "cell_type": "code",
   "execution_count": null,
   "id": "f28c4bc0",
   "metadata": {},
   "outputs": [],
   "source": [
    "# rename columns\n",
    "mars_df.columns=['Attribute', 'Mars', 'Earth']\n",
    "mars_df"
   ]
  },
  {
   "cell_type": "code",
   "execution_count": null,
   "id": "f259e4f3",
   "metadata": {
    "scrolled": true
   },
   "outputs": [],
   "source": [
    "mars_df.to_html()"
   ]
  },
  {
   "cell_type": "markdown",
   "id": "987e7450",
   "metadata": {},
   "source": [
    "# Mars Hemispheres"
   ]
  },
  {
   "cell_type": "markdown",
   "id": "8ce8056a",
   "metadata": {},
   "source": [
    "Visit the astrogeology site here to obtain high resolution images for each of Mar's hemispheres.\n",
    "\n",
    "\n",
    "You will need to click each of the links to the hemispheres in order to find the image url to the full resolution image.\n",
    "\n",
    "\n",
    "Save both the image url string for the full resolution hemisphere image, and the Hemisphere title containing the hemisphere name. Use a Python dictionary to store the data using the keys img_url and title.\n",
    "\n",
    "\n",
    "Append the dictionary with the image url string and the hemisphere title to a list. This list will contain one dictionary for each hemisphere."
   ]
  },
  {
   "cell_type": "code",
   "execution_count": 14,
   "id": "01d358b8",
   "metadata": {},
   "outputs": [],
   "source": [
    "url = 'https://marshemispheres.com/'\n",
    "\n",
    "browser.visit(url)\n",
    "\n",
    "# https://splinter.readthedocs.io/en/latest/finding.html"
   ]
  },
  {
   "cell_type": "code",
   "execution_count": 15,
   "id": "889464a7",
   "metadata": {},
   "outputs": [
    {
     "name": "stdout",
     "output_type": "stream",
     "text": [
      "4 - links found\n"
     ]
    }
   ],
   "source": [
    "# make a list to hold the images and titles\n",
    "# need list of dictionaries\n",
    "hemisphere_image_urls = []\n",
    "\n",
    "# get a list of links for loop range\n",
    "links = browser.links.find_by_partial_text('Enhanced')\n",
    "x = len(links)\n",
    "print(f'{x} - links found')"
   ]
  },
  {
   "cell_type": "code",
   "execution_count": 7,
   "id": "9b708560",
   "metadata": {},
   "outputs": [],
   "source": [
    "# loop through links, click it, find the jpg link, return href\n",
    "for i in range(len(links)):\n",
    "    #dict for appending to list\n",
    "    hemisphere = {}\n",
    "    \n",
    "    #navigate to first link, click\n",
    "    browser.links.find_by_partial_text('Enhanced')[i].click()\n",
    "    # find jpg link\n",
    "    jpg_link = browser.links.find_by_partial_text('Sample')\n",
    "    # dict{ ['jpg_url'] = ['href'] }\n",
    "    hemisphere['jpg_url']=jpg_link['href']\n",
    "    # get the href title\n",
    "    # find_by_css('tag.class')\n",
    "    hemisphere['title'] = browser.find_by_css('h2.title').text\n",
    "    \n",
    "    # add dict entry to list\n",
    "    hemisphere_image_urls.append(hemisphere)\n",
    "    \n",
    "    # reset for next link\n",
    "    browser.back()"
   ]
  },
  {
   "cell_type": "code",
   "execution_count": 8,
   "id": "0093a344",
   "metadata": {},
   "outputs": [
    {
     "data": {
      "text/plain": [
       "[{'jpg_url': 'https://marshemispheres.com/images/full.jpg',\n",
       "  'title': 'Cerberus Hemisphere Enhanced'},\n",
       " {'jpg_url': 'https://marshemispheres.com/images/schiaparelli_enhanced-full.jpg',\n",
       "  'title': 'Schiaparelli Hemisphere Enhanced'},\n",
       " {'jpg_url': 'https://marshemispheres.com/images/syrtis_major_enhanced-full.jpg',\n",
       "  'title': 'Syrtis Major Hemisphere Enhanced'},\n",
       " {'jpg_url': 'https://marshemispheres.com/images/valles_marineris_enhanced-full.jpg',\n",
       "  'title': 'Valles Marineris Hemisphere Enhanced'}]"
      ]
     },
     "execution_count": 8,
     "metadata": {},
     "output_type": "execute_result"
    }
   ],
   "source": [
    "hemisphere_image_urls"
   ]
  },
  {
   "cell_type": "code",
   "execution_count": null,
   "id": "f2ad483d",
   "metadata": {},
   "outputs": [],
   "source": [
    "browser.quit()"
   ]
  },
  {
   "cell_type": "code",
   "execution_count": 29,
   "id": "cf59bce9",
   "metadata": {},
   "outputs": [
    {
     "name": "stdout",
     "output_type": "stream",
     "text": [
      "4 - links found\n"
     ]
    }
   ],
   "source": [
    "url = 'https://marshemispheres.com/'\n",
    "\n",
    "browser.visit(url)\n",
    "\n",
    "# https://splinter.readthedocs.io/en/latest/finding.html\n",
    "# make a list to hold the images and titles\n",
    "# need list of dictionaries\n",
    "hemisphere_image_urls = []\n",
    "\n",
    "# get a list of links for loop range\n",
    "links = browser.links.find_by_partial_text('Enhanced')\n",
    "x = len(links)\n",
    "print(f'{x} - links found')\n",
    "hemisphere = {}\n",
    "\n",
    "#navigate to first link, click\n",
    "browser.links.find_by_partial_text('Enhanced')[1].click()\n",
    "# find jpg link\n",
    "jpg_link = browser.links.find_by_partial_href('full.jpg')\n",
    "# dict{ ['jpg_url'] = ['href'] }\n",
    "hemisphere['jpg_url']=jpg_link['href']\n",
    "# get the href title\n",
    "# find_by_css('tag.class')\n",
    "hemisphere['title'] = browser.find_by_css('h2.title').text\n",
    "\n",
    "# add dict entry to list\n",
    "hemisphere_image_urls.append(hemisphere)"
   ]
  },
  {
   "cell_type": "code",
   "execution_count": 30,
   "id": "fa7e27dc",
   "metadata": {},
   "outputs": [
    {
     "data": {
      "text/plain": [
       "'https://marshemispheres.com/images/schiaparelli_enhanced-full.jpg'"
      ]
     },
     "execution_count": 30,
     "metadata": {},
     "output_type": "execute_result"
    }
   ],
   "source": [
    "jpg_link['href']"
   ]
  },
  {
   "cell_type": "code",
   "execution_count": 31,
   "id": "23a6a36a",
   "metadata": {},
   "outputs": [
    {
     "data": {
      "text/plain": [
       "{'jpg_url': 'https://marshemispheres.com/images/schiaparelli_enhanced-full.jpg',\n",
       " 'title': 'Schiaparelli Hemisphere Enhanced'}"
      ]
     },
     "execution_count": 31,
     "metadata": {},
     "output_type": "execute_result"
    }
   ],
   "source": [
    "hemisphere"
   ]
  },
  {
   "cell_type": "code",
   "execution_count": null,
   "id": "8d07e438",
   "metadata": {},
   "outputs": [],
   "source": []
  }
 ],
 "metadata": {
  "kernelspec": {
   "display_name": "Python 3",
   "language": "python",
   "name": "python3"
  },
  "language_info": {
   "codemirror_mode": {
    "name": "ipython",
    "version": 3
   },
   "file_extension": ".py",
   "mimetype": "text/x-python",
   "name": "python",
   "nbconvert_exporter": "python",
   "pygments_lexer": "ipython3",
   "version": "3.8.8"
  }
 },
 "nbformat": 4,
 "nbformat_minor": 5
}
